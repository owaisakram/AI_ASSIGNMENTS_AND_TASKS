{
 "cells": [
  {
   "cell_type": "markdown",
   "metadata": {},
   "source": [
    "<h3>Q no 1:  Write a python program to find number of occurrences of given number in a list with out using built-in methods</h3>\n",
    "<h4>**1 generate a list of some random num which is repeated again and again</h4>\n",
    "<h4>**2 take user input any number</h4>\n",
    "<h4>**3 find the number of occurrences of that num in your list</h4>\n",
    "<h4>**4 print some message to user with that result</h4>"
   ]
  },
  {
   "cell_type": "code",
   "execution_count": 1,
   "metadata": {},
   "outputs": [],
   "source": [
    "random_numbers = [0,1,2,5,9,5,3,2,9,7,5]\n",
    "occur = 0"
   ]
  },
  {
   "cell_type": "code",
   "execution_count": 2,
   "metadata": {},
   "outputs": [
    {
     "name": "stdout",
     "output_type": "stream",
     "text": [
      "type any number to find it's occurences in the above list 2\n",
      "the number that user entered occured 2 times in the list\n"
     ]
    }
   ],
   "source": [
    "user = int(input(\"type any number to find it's occurences in the above list \"))\n",
    "for i in random_numbers:\n",
    "    if i == user:\n",
    "        occur+=1\n",
    "    else:\n",
    "            continue\n",
    "print(\"the number that user entered occured\",occur,\"times in the list\")"
   ]
  },
  {
   "cell_type": "markdown",
   "metadata": {},
   "source": [
    "<h3>Q no 2:   [\"www.zframez.com\", \"www.wikipedia.org\", \"www.asp.net\", \"www.abcd.in\"]\n",
    "<br/><br/><br/><br/><br/>\n",
    "Write a python program to print website suffixes (com , org , net ,in) from this list\n",
    "</h3>"
   ]
  },
  {
   "cell_type": "code",
   "execution_count": 3,
   "metadata": {},
   "outputs": [
    {
     "name": "stdout",
     "output_type": "stream",
     "text": [
      "['www', 'zframez', 'com']\n",
      "['www', 'wikipedia', 'org']\n",
      "['www', 'asp', 'net']\n",
      "['www', 'abcd', 'in']\n"
     ]
    }
   ],
   "source": [
    "sites =  [\"www.zframez.com\", \"www.wikipedia.org\", \"www.asp.net\", \"www.abcd.in\"] \n",
    "for i in sites:\n",
    "    show = i.split('.')\n",
    "    print(show)"
   ]
  },
  {
   "cell_type": "code",
   "execution_count": 5,
   "metadata": {},
   "outputs": [
    {
     "name": "stdout",
     "output_type": "stream",
     "text": [
      "com\n",
      "org\n",
      "net\n",
      "in\n"
     ]
    }
   ],
   "source": [
    "for i in sites:\n",
    "    show = i.split('.')\n",
    "    print(show[2])"
   ]
  },
  {
   "cell_type": "markdown",
   "metadata": {},
   "source": [
    "<h3> Q no 3 : Write a program which can compute the factorial of a given numbers.</h3>\n",
    "<br/>\n",
    "<br/>\n",
    "<h4>**1 first take user input any number</h4>\n",
    "<h4>**2 calculate factorial of that input and then print the result to user</h4>"
   ]
  },
  {
   "cell_type": "code",
   "execution_count": 6,
   "metadata": {},
   "outputs": [
    {
     "name": "stdout",
     "output_type": "stream",
     "text": [
      "Enter a number to find it's Factorial 5\n"
     ]
    }
   ],
   "source": [
    "x = eval(input(\"Enter a number to find it's Factorial \"))"
   ]
  },
  {
   "cell_type": "code",
   "execution_count": 7,
   "metadata": {},
   "outputs": [],
   "source": [
    "fac = 1"
   ]
  },
  {
   "cell_type": "code",
   "execution_count": 8,
   "metadata": {},
   "outputs": [],
   "source": [
    "for i in range(1,x+1):\n",
    "    fac = fac*(i)"
   ]
  },
  {
   "cell_type": "code",
   "execution_count": 9,
   "metadata": {},
   "outputs": [
    {
     "name": "stdout",
     "output_type": "stream",
     "text": [
      "The factorial of 5  is  120\n"
     ]
    }
   ],
   "source": [
    "print(\"The factorial of\", x ,\" is \",fac)"
   ]
  },
  {
   "cell_type": "markdown",
   "metadata": {},
   "source": [
    "<h3>Q 4 (a) :  If you could invite anyone, living or deceased, to dinner, who\n",
    "would you invite? Make a list that includes at least three people you’d like to\n",
    "invite to dinner. Then use your list to print a message to each person, inviting\n",
    "them to dinner.</h3>"
   ]
  },
  {
   "cell_type": "code",
   "execution_count": 10,
   "metadata": {},
   "outputs": [],
   "source": [
    "dinner = [\"MOHSIN\",\"FAIZ\",\"UZAIR\"]"
   ]
  },
  {
   "cell_type": "code",
   "execution_count": 11,
   "metadata": {},
   "outputs": [
    {
     "name": "stdout",
     "output_type": "stream",
     "text": [
      "Hello MOHSIN Would you like to join me for a dinner tonight ? If yes please contact me on this number xxxxxxx \n",
      "Hello FAIZ Would you like to join me for a dinner tonight ? If yes please contact me on this number xxxxxxx \n",
      "Hello UZAIR Would you like to join me for a dinner tonight ? If yes please contact me on this number xxxxxxx \n"
     ]
    }
   ],
   "source": [
    "for i in dinner:\n",
    "    print(\"Hello\",i,\"Would you like to join me for a dinner tonight ? If yes please contact me on this number xxxxxxx \")"
   ]
  },
  {
   "cell_type": "code",
   "execution_count": null,
   "metadata": {},
   "outputs": [],
   "source": []
  },
  {
   "cell_type": "markdown",
   "metadata": {},
   "source": [
    "<h3>Q 4 (b) : You just heard that one of your guests can’t make the\n",
    "dinner, so you need to send out a new set of invitations. You’ll have to think of\n",
    "someone else to invite.<br/></br><br/>\n",
    "•\t Start with your program from Q 4 (a). Add a print statement at the\n",
    "end of your program stating the name of the guest who can’t make it.<br/></br><br/>\n",
    "•\t Modify your list, replacing the name of the guest who can’t make it with\n",
    "the name of the new person you are inviting.<br/></br><br/>\n",
    "•\t Print a second set of invitation messages, one for each person who is still\n",
    "in your list.<br/></br><br/></h3>"
   ]
  },
  {
   "cell_type": "code",
   "execution_count": 12,
   "metadata": {},
   "outputs": [
    {
     "name": "stdout",
     "output_type": "stream",
     "text": [
      "MOHSIN is busy so he cannot make it to dinner\n"
     ]
    }
   ],
   "source": [
    "print(dinner[0],\"is busy so he cannot make it to dinner\")"
   ]
  },
  {
   "cell_type": "code",
   "execution_count": 13,
   "metadata": {},
   "outputs": [
    {
     "name": "stdout",
     "output_type": "stream",
     "text": [
      "['Ahsan', 'FAIZ', 'UZAIR']\n"
     ]
    }
   ],
   "source": [
    "dinner[0] = 'Ahsan'\n",
    "print(dinner)"
   ]
  },
  {
   "cell_type": "code",
   "execution_count": 14,
   "metadata": {},
   "outputs": [
    {
     "name": "stdout",
     "output_type": "stream",
     "text": [
      "Hello Ahsan Would you like to join me for a dinner tonight? If yes please contact me on this number xxxxxxx \n",
      "Hello FAIZ Would you like to join me for a dinner tonight? If yes please contact me on this number xxxxxxx \n",
      "Hello UZAIR Would you like to join me for a dinner tonight? If yes please contact me on this number xxxxxxx \n"
     ]
    }
   ],
   "source": [
    "for i in dinner:\n",
    "    print(\"Hello\",i,\"Would you like to join me for a dinner tonight? If yes please contact me on this number xxxxxxx \")"
   ]
  },
  {
   "cell_type": "markdown",
   "metadata": {},
   "source": [
    "<h3>Q 4 (c) : You just found a bigger dinner table, so now more space is\n",
    "available. Think of three more guests to invite to dinner.<br/></br><br/>\n",
    "•\t Start with your program from Q 4 (a) and (b) Add a print\n",
    "statement to the end of your program informing people that you found a\n",
    "bigger dinner table.<br/></br><br/>\n",
    "•\t Use insert() to add one new guest to the beginning of your list.<br/></br><br/>\n",
    "•\t Use insert() to add one new guest to the middle of your list.<br/></br><br/>\n",
    "•\t Use append() to add one new guest to the end of your list.<br/></br><br/>\n",
    "•\t Print a new set of invitation messages, one for each person in your list.<br/></br><br/></h3>"
   ]
  },
  {
   "cell_type": "code",
   "execution_count": 15,
   "metadata": {},
   "outputs": [
    {
     "name": "stdout",
     "output_type": "stream",
     "text": [
      "Good news friends i have arranged a bigger table for dinner, it means the whole class can get together\n"
     ]
    }
   ],
   "source": [
    "print(\"Good news friends i have arranged a bigger table for dinner, it means the whole class can get together\")"
   ]
  },
  {
   "cell_type": "code",
   "execution_count": 16,
   "metadata": {},
   "outputs": [
    {
     "name": "stdout",
     "output_type": "stream",
     "text": [
      "['Ali', 'Ahsan', 'Mehmood', 'FAIZ', 'UZAIR', 'Wahaj']\n"
     ]
    }
   ],
   "source": [
    "dinner.insert(0,\"Ali\")\n",
    "dinner.insert(2,\"Mehmood\")\n",
    "dinner.append(\"Wahaj\")\n",
    "print(dinner)"
   ]
  },
  {
   "cell_type": "code",
   "execution_count": 17,
   "metadata": {},
   "outputs": [
    {
     "name": "stdout",
     "output_type": "stream",
     "text": [
      "Hello Ali Would you like to join me for a dinner tonight? If yes please contact me on this number xxxxxxx \n",
      "Hello Ahsan Would you like to join me for a dinner tonight? If yes please contact me on this number xxxxxxx \n",
      "Hello Mehmood Would you like to join me for a dinner tonight? If yes please contact me on this number xxxxxxx \n",
      "Hello FAIZ Would you like to join me for a dinner tonight? If yes please contact me on this number xxxxxxx \n",
      "Hello UZAIR Would you like to join me for a dinner tonight? If yes please contact me on this number xxxxxxx \n",
      "Hello Wahaj Would you like to join me for a dinner tonight? If yes please contact me on this number xxxxxxx \n"
     ]
    }
   ],
   "source": [
    "for i in dinner:\n",
    "        print(\"Hello\",i,\"Would you like to join me for a dinner tonight? If yes please contact me on this number xxxxxxx \")"
   ]
  },
  {
   "cell_type": "markdown",
   "metadata": {},
   "source": [
    "<h5> Q 5 : Here you have some data in variable below, your task is to make a list of specific word Surah then print the list and length of list</h5>\n"
   ]
  },
  {
   "cell_type": "code",
   "execution_count": 30,
   "metadata": {},
   "outputs": [],
   "source": [
    "data = \"Surah I Who believe in the Unseen, Surah Are steadfast in prayer, And spend Surah out of what We Have provided for them;\"\n"
   ]
  },
  {
   "cell_type": "code",
   "execution_count": 52,
   "metadata": {},
   "outputs": [
    {
     "name": "stdout",
     "output_type": "stream",
     "text": [
      "['Surah', 'I', 'Who', 'believe', 'in', 'the', 'Unseen,', 'Surah', 'Are', 'steadfast', 'in', 'prayer,', 'And', 'spend', 'Surah', 'out', 'of', 'what', 'We', 'Have', 'provided', 'for', 'them;']\n",
      "[]\n",
      "0\n"
     ]
    }
   ],
   "source": [
    "\n",
    "new = []\n",
    "div = data.split(\" \")\n",
    "print(div)\n",
    "\n",
    "for z in div:    \n",
    "    if z == \"surah\":\n",
    "        new.append(x)\n",
    "print(new)\n",
    "print(len(new))"
   ]
  },
  {
   "cell_type": "code",
   "execution_count": null,
   "metadata": {},
   "outputs": [],
   "source": []
  },
  {
   "cell_type": "code",
   "execution_count": null,
   "metadata": {},
   "outputs": [],
   "source": []
  }
 ],
 "metadata": {
  "kernelspec": {
   "display_name": "Python 3",
   "language": "python",
   "name": "python3"
  },
  "language_info": {
   "codemirror_mode": {
    "name": "ipython",
    "version": 3
   },
   "file_extension": ".py",
   "mimetype": "text/x-python",
   "name": "python",
   "nbconvert_exporter": "python",
   "pygments_lexer": "ipython3",
   "version": "3.6.5"
  }
 },
 "nbformat": 4,
 "nbformat_minor": 2
}
